{
 "cells": [
  {
   "cell_type": "markdown",
   "id": "6b34c90d",
   "metadata": {
    "cell_style": "center",
    "slideshow": {
     "slide_type": "slide"
    }
   },
   "source": [
    "# Introduction à Python\n",
    "\n",
    "![](assets/logo_python.png)\n",
    "\n",
    "\n",
    "<div style=\"display:flex; justify-content:space-around ; font-size:20px\"><div> TPI - Module Python</div> <span> Université de Genève</div></div>\n"
   ]
  },
  {
   "cell_type": "markdown",
   "id": "a4ba0f5e",
   "metadata": {
    "slideshow": {
     "slide_type": "slide"
    },
    "tags": []
   },
   "source": [
    "## Pourquoi Python ? \n",
    "\n",
    "- Assez simple à utiliser et à lire\n",
    "- Versatile : scripting, data science, machine learning, web, etc...\n",
    "- Interactif \n",
    "- **BEAUCOUP** de librairies disponibles\n",
    "\n",
    "Mais...\n",
    "- Python \"pur\" assez lent, et encore... "
   ]
  },
  {
   "cell_type": "markdown",
   "id": "b2f8faa1-bbb8-4fbd-8aad-308b36549d5a",
   "metadata": {
    "slideshow": {
     "slide_type": "notes"
    },
    "tags": []
   },
   "source": [
    "Contrairement à par exemple C++, python est très interactif parce que ce n'est pas un langage compilé. Donc très utile pour expérimenter (Ecrire, tester, écrire, tester... )\n",
    "\n",
    "Le compilateur C++ va regarder le programme dans son ensemble et va pouvoir trouver des erreurs avant même d'avoir excécuté le code. Puisqu'il connait tout le code, il peut aussi faire des optimisations.\n",
    "Python, sans entrer dans les détails, va être lu \"ligne par ligne\", donc pas d'optimisations, et le code peut avoir l'air de bien fonctionner, mais il suffit de faire tourner une fonction avec une erreur pour faire crasher le programme. Pour les gros projets, c'est important de bien tester le code."
   ]
  },
  {
   "cell_type": "markdown",
   "id": "f9d595de-303a-490e-949d-3f26d12ba14e",
   "metadata": {
    "cell_style": "center",
    "slideshow": {
     "slide_type": "slide"
    },
    "tags": []
   },
   "source": [
    "**C++**  `hello_world.cpp`\n",
    "```c++\n",
    "#include <iostream>\n",
    "#include <string>\n",
    "\n",
    "int main(){\n",
    "    std::string temps = \"pluvieux\";\n",
    "    std::cout<<\"Hello World\"<<std::endl;\n",
    "    if (temps == \"pluvieux\"){\n",
    "        std::cout << \"Il ne fait pas très beau...\"<<std::endl;\n",
    "    }\n",
    "    else {\n",
    "        std::cout << \"Wow, du beau temps !\" <<std::endl;\n",
    "    }\n",
    "  return 0;\n",
    "}\n",
    "```"
   ]
  },
  {
   "cell_type": "markdown",
   "id": "663e46ba-c073-44bd-977d-049a00ed0089",
   "metadata": {
    "cell_style": "center",
    "slideshow": {
     "slide_type": "slide"
    },
    "tags": []
   },
   "source": [
    "**Python**  `hello_world.py`\n",
    "```python\n",
    "temps = \"pluvieux\"\n",
    "print(\"Hello World\")\n",
    "if temps == \"pluvieux\":\n",
    "    print(\"Il ne fait pas très beau...\")\n",
    "else :\n",
    "    print(\"Wow, du beau temps !\")\n",
    "```"
   ]
  },
  {
   "cell_type": "markdown",
   "id": "b51ee70f-3ceb-414b-8fdb-d55fba7a188f",
   "metadata": {
    "slideshow": {
     "slide_type": "notes"
    },
    "tags": []
   },
   "source": [
    "On remarque plusieurs choses :\n",
    "- Le fichier finit par `.py`\n",
    "- Pas de point-virgule à la fin des lignes\n",
    "- L'indentation (tab, ou 4 espaces) définit les blocs, pas `{}`\n",
    "- Les types ne sont pas spécifiés dans la déclaration, python essaye de les deviner. \n",
    "- La logique reste la même (heureusement...)\n",
    "\n",
    "Si l'indentation n'est pas correcte (incohérence entre `tab` et espaces, ou bien pas le même nombre d'espaces), l'interpréteur python va gentillement vous répondre par un `IndentationError: unexpected indent`."
   ]
  },
  {
   "cell_type": "markdown",
   "id": "d29c9925",
   "metadata": {
    "slideshow": {
     "slide_type": "slide"
    },
    "tags": []
   },
   "source": [
    "## Python dans un fichier\n",
    "\n",
    "En C++ : `g++ -o nomExecutable nomFichier.cpp && ./nomExecutable`\n",
    "\n",
    "En python : `python3 nomFichier.py`\n"
   ]
  },
  {
   "cell_type": "markdown",
   "id": "96418918",
   "metadata": {
    "slideshow": {
     "slide_type": "notes"
    }
   },
   "source": [
    "On peut noter le \"3\" à la fin de la commande `python3`. Il y a en réalité plusieures version de python, dont deux sont vraiment différentes : python 2.x et python 3.x . Python 2 est obsolète depuis 2020, mais la transition n'est pas encore finie. C'est donc plus sûr de spécifier la version."
   ]
  },
  {
   "cell_type": "markdown",
   "id": "877f78ed",
   "metadata": {
    "slideshow": {
     "slide_type": "slide"
    }
   },
   "source": [
    "## Python dans l'interpéteur\n",
    "\n",
    "Dans le terminal : `python3`.\n",
    "![](assets/interpreteur.png)\n",
    "Permet de tester rapidement du code, moins pratique pour de plus grands projets.\n",
    "\n",
    "Pour le quitter : `Ctrl`+`d`\n"
   ]
  },
  {
   "cell_type": "markdown",
   "id": "578abb4c",
   "metadata": {
    "slideshow": {
     "slide_type": "slide"
    }
   },
   "source": [
    "## Jupyter\n",
    "\n",
    "Permet d'écrire du code python comme dans un fichier, mais de manière plus interactive, sous forme de **notebook**\n",
    "\n",
    "En plus d'éditer du code python :\n",
    "- Support pour d'autres langages de programmation. \n",
    "- Ecrire facilement des équations en $\\LaTeX$.\n",
    "- Afficher des images et des vidéos.\n",
    "- Afficher des graphiques interactifs.\n",
    "- Construire des interfaces graphiques."
   ]
  },
  {
   "cell_type": "markdown",
   "id": "61206016",
   "metadata": {
    "slideshow": {
     "slide_type": "subslide"
    }
   },
   "source": [
    "Jupyter se structure avec des **cellules** comme celle en dessous. "
   ]
  },
  {
   "cell_type": "code",
   "execution_count": null,
   "id": "cea6f167",
   "metadata": {
    "slideshow": {
     "slide_type": "-"
    }
   },
   "outputs": [],
   "source": []
  },
  {
   "cell_type": "markdown",
   "id": "ce5fb9e5",
   "metadata": {
    "slideshow": {
     "slide_type": "-"
    }
   },
   "source": [
    "Pour exécuter son contenu : `Shift`-`Enter`"
   ]
  },
  {
   "cell_type": "markdown",
   "id": "15557ffb",
   "metadata": {
    "slideshow": {
     "slide_type": "-"
    }
   },
   "source": [
    "Il en existe 3 types : <u>Code</u>, <u>Markdown</u> et <u>Raw</u>\n",
    "- **Code** : Pour... le code.\n",
    "- **Markdown** : Permet de mettre en forme du texte, d'ajouter des images et des équations $\\LaTeX$.\n",
    "- **Raw** : Du texte brut."
   ]
  },
  {
   "cell_type": "code",
   "execution_count": 2,
   "id": "2ff98129",
   "metadata": {
    "scrolled": true,
    "slideshow": {
     "slide_type": "subslide"
    }
   },
   "outputs": [
    {
     "name": "stdout",
     "output_type": "stream",
     "text": [
      "Bonjour\n"
     ]
    }
   ],
   "source": [
    "# une cellule python\n",
    "print(\"Bonjour\")"
   ]
  },
  {
   "cell_type": "markdown",
   "id": "25102868",
   "metadata": {
    "slideshow": {
     "slide_type": "-"
    }
   },
   "source": [
    "une cellule Markdown"
   ]
  },
  {
   "cell_type": "raw",
   "id": "865e5aa8",
   "metadata": {},
   "source": [
    "Une cellule raw "
   ]
  },
  {
   "cell_type": "markdown",
   "id": "2c6968fc",
   "metadata": {
    "slideshow": {
     "slide_type": "skip"
    }
   },
   "source": [
    "Le formattage du texte en markdown suit une certaine syntaxe (liste non-exhaustive) : \n",
    "```markdown\n",
    "# Titre\n",
    "Titre\n",
    "---\n",
    "\n",
    "## Sous-titre\n",
    "### sous-sous-sous titre\n",
    "etc...\n",
    "\n",
    "Mot en **gras** ou __gras__.\n",
    "Mot en *italique*\n",
    "\n",
    "```\n",
    "\n",
    "En `monospace` pour du code sans coloration syntaxique\n",
    "\n",
    "Avec 3 guillemets pour écrire un bloc de code avec coloration syntaxique si l'on spécifie le langage\n",
    "```python\n",
    "def bonjour():\n",
    "    print(\"Bonjour\")\n",
    "```\n",
    "\n",
    "```c++\n",
    "int main(){\n",
    "    return 0;\n",
    "}\n",
    "```\n",
    "\n",
    "3 tirets pour une ligne horizontale\n",
    "\n",
    "--- \n",
    "\n",
    "Une liste non numérotée :\n",
    "- Un chat\n",
    "- Un chien\n",
    "- Un canari\n",
    "\n",
    "Une liste numérotée :\n",
    "1. Un chat\n",
    "2. Un chien\n",
    "3. Un canari\n",
    "\n",
    "On peut aussi faire des cases à cocher :\n",
    "- [ ] Case non cochée\n",
    "- [x] Case cochée\n",
    "\n",
    "Un tableau :\n",
    "\n",
    "| Syntax | Description |\n",
    "| --- | ----------- |\n",
    "| Header | Title |\n",
    "| Paragraph | Text |\n",
    "\n",
    "Inclure une image `![](url)`\n",
    "\n",
    "Inclure un lien : `[texte affiché](url)`\n",
    "\n",
    "Si markdown est trop restrictif, il est même possible d'inclure du code html et css ! \n",
    "\n",
    "\n",
    "Pour plus de détails et plus d'exemples, voir ce site : [https://www.markdownguide.org/extended-syntax/](https://www.markdownguide.org/extended-syntax/)\n"
   ]
  },
  {
   "cell_type": "markdown",
   "id": "25e39de6",
   "metadata": {
    "slideshow": {
     "slide_type": "slide"
    }
   },
   "source": [
    "## Les variables\n"
   ]
  },
  {
   "cell_type": "code",
   "execution_count": 7,
   "id": "8dbd867b",
   "metadata": {
    "slideshow": {
     "slide_type": "-"
    }
   },
   "outputs": [
    {
     "name": "stdout",
     "output_type": "stream",
     "text": [
      "3.0\n",
      "<class 'str'>\n"
     ]
    }
   ],
   "source": [
    "myString = \"Hello\"\n",
    "myInt = 2\n",
    "myFloat = 3.14\n",
    "myBool = True\n",
    "myList = [1,2,3,4,5]\n",
    "myDict = {'cle1': 1, 'cle2': 2, 'cle3' : 3}\n",
    "\n",
    "# on peut aussi spécfier explicitement\n",
    "myFloat2 = float(3)\n",
    "myString2 = str(3)\n",
    "print(myFloat2)\n",
    "print(type(myString2))"
   ]
  },
  {
   "cell_type": "markdown",
   "id": "e546a278",
   "metadata": {
    "slideshow": {
     "slide_type": "subslide"
    }
   },
   "source": [
    "On peut aussi assigner plusieurs variables d'un coup. "
   ]
  },
  {
   "cell_type": "code",
   "execution_count": 8,
   "id": "0cd4b8d9",
   "metadata": {
    "slideshow": {
     "slide_type": "-"
    }
   },
   "outputs": [
    {
     "name": "stdout",
     "output_type": "stream",
     "text": [
      "éléphant\n",
      "hyène\n",
      "ours\n",
      "Augustin\n",
      "Brayan\n",
      "Olivier\n"
     ]
    }
   ],
   "source": [
    "a,b,c = \"éléphant\", \"hyène\", \"ours\"\n",
    "\n",
    "print(a) # \"éléphant\"\n",
    "print(b) # \"hyène\"\n",
    "print(c) # \"ours\"\n",
    "\n",
    "d,e,f = [\"Augustin\", \"Brayan\", \"Olivier\"] # unpacking\n",
    "print(d) # \"Augustin\"\n",
    "print(e) # \"Brayan\"\n",
    "print(f) # \"Olivier\" "
   ]
  },
  {
   "cell_type": "markdown",
   "id": "e530d7f1",
   "metadata": {
    "slideshow": {
     "slide_type": "notes"
    }
   },
   "source": [
    "Pas besoin de spécifier explicitement les types lorsqu'on déclare une variable. Python va essayer de deviner le type lui-même. Quand c'est ambigue, vaut mieux le préciser. Un exemple : "
   ]
  },
  {
   "cell_type": "code",
   "execution_count": 18,
   "id": "79a9e600",
   "metadata": {
    "slideshow": {
     "slide_type": "skip"
    }
   },
   "outputs": [
    {
     "name": "stdout",
     "output_type": "stream",
     "text": [
      "<class 'float'>\n",
      "<class 'int'>\n"
     ]
    }
   ],
   "source": [
    "print(type(3/1)) # C'est un float\n",
    "print(type(int(3/1))) # C'est un int."
   ]
  },
  {
   "cell_type": "markdown",
   "id": "b1fbaf71",
   "metadata": {
    "slideshow": {
     "slide_type": "slide"
    }
   },
   "source": [
    "## Les structures logiques `if / elif / else`"
   ]
  },
  {
   "cell_type": "code",
   "execution_count": 20,
   "id": "82207b9d",
   "metadata": {
    "cell_style": "center",
    "slideshow": {
     "slide_type": "-"
    }
   },
   "outputs": [
    {
     "name": "stdout",
     "output_type": "stream",
     "text": [
      "C'est un oiseau !\n"
     ]
    }
   ],
   "source": [
    "animal = \"chouette\"\n",
    "\n",
    "if animal == \"chouette\" : \n",
    "    print(\"C'est un oiseau !\")\n",
    "elif animal == \"requin\" : \n",
    "    print(\"C'est un poisson\")\n",
    "else :\n",
    "    print(\"C'est autre chose\")"
   ]
  },
  {
   "cell_type": "markdown",
   "id": "141365bc",
   "metadata": {
    "cell_style": "split",
    "slideshow": {
     "slide_type": "slide"
    }
   },
   "source": [
    "On peut effectuer d'autres opérations dans les conditions : \n",
    "- `!=`  N'est pas égal à \n",
    "- `>, >=` Strictement plus grand que, plus grand ou égal à\n",
    "- `<, <=` Strictement plus petit que, plus petit ou égal à\n",
    "- `or` OU\n",
    "- `and` ET\n",
    "- `is` vérifie si deux objets sont les même (plus rares)\n",
    "- `not` : negation\n"
   ]
  },
  {
   "cell_type": "code",
   "execution_count": 8,
   "id": "70135f3f",
   "metadata": {
    "cell_style": "split",
    "slideshow": {
     "slide_type": "-"
    }
   },
   "outputs": [
    {
     "name": "stdout",
     "output_type": "stream",
     "text": [
      "C'est un animal ! \n"
     ]
    }
   ],
   "source": [
    "animal = \"chouette\"\n",
    "if (animal == \"chouette\") or (animal == \"requin\") : \n",
    "    print(\"C'est un animal ! \")\n",
    "else : \n",
    "    print(\"On sait pas\")"
   ]
  },
  {
   "cell_type": "markdown",
   "id": "38c34da9",
   "metadata": {
    "slideshow": {
     "slide_type": "notes"
    }
   },
   "source": [
    "FIXME: à partir de 3.10 -> swtich comme dans C++, sinon y'a pas -> à regarder plus en détail. "
   ]
  },
  {
   "cell_type": "markdown",
   "id": "70a512bb",
   "metadata": {
    "slideshow": {
     "slide_type": "slide"
    }
   },
   "source": [
    "## Le mot clé `in`\n",
    "\n",
    "Le mot-clé `in` a deux utilités :\n",
    "1. Vérifier si un élément est présent dans une séquence (liste, range, string).\n",
    "2. Itérer dans le contexte d'une boucle `for`."
   ]
  },
  {
   "cell_type": "code",
   "execution_count": 14,
   "id": "52fabb1b",
   "metadata": {
    "slideshow": {
     "slide_type": "fragment"
    }
   },
   "outputs": [
    {
     "name": "stdout",
     "output_type": "stream",
     "text": [
      "C'est un jour de travail\n",
      "Test contient la lettre 'e'\n"
     ]
    }
   ],
   "source": [
    "# Cas 1 : Est-ce qu'un élément est dans une séquence ?\n",
    "jour = \"lundi\"\n",
    "if jour in [\"lundi\", \"mardi\", \"mercredi\", \"jeudi\", \"vendredi\"] :\n",
    "    print(\"C'est un jour de travail\")\n",
    "elif jour in [\"samedi\", \"dimanche\"]:\n",
    "    print(\"C'est le weekend !\")\n",
    "\n",
    "\n",
    "# exemple avec un string\n",
    "if \"e\" in \"test\":\n",
    "    print(\"Test contient la lettre 'e'\")"
   ]
  },
  {
   "cell_type": "markdown",
   "id": "5bc5b10e",
   "metadata": {
    "slideshow": {
     "slide_type": "fragment"
    }
   },
   "source": [
    "   Très utile pour tester plusieurs égalités d'un coup \n",
    "    "
   ]
  },
  {
   "cell_type": "markdown",
   "id": "ed2fe4b5",
   "metadata": {
    "slideshow": {
     "slide_type": "slide"
    }
   },
   "source": [
    "## Les boucles `while` et `for`\n",
    "\n",
    "Syntaxe : \n",
    "```python\n",
    "for <nomVariable> in <sequence>:\n",
    "    ...\n",
    "```\n",
    "\n",
    "```python\n",
    "while <condition> : \n",
    "    ...\n",
    "```\n"
   ]
  },
  {
   "cell_type": "code",
   "execution_count": 17,
   "id": "fc1e4f37",
   "metadata": {
    "slideshow": {
     "slide_type": "subslide"
    }
   },
   "outputs": [
    {
     "name": "stdout",
     "output_type": "stream",
     "text": [
      "1 est impair\n",
      "2 est pair\n",
      "3 est impair\n",
      "4 est pair\n",
      "5 est impair\n",
      "6 est pair\n",
      "7 est impair\n",
      "8 est pair\n",
      "9 est impair\n"
     ]
    }
   ],
   "source": [
    "# boucle for \n",
    "for index in range(1,10) : \n",
    "    if index % 2 == 0 : \n",
    "        print(index, \"est pair\")\n",
    "    else :\n",
    "        print(index, \"est impair\")"
   ]
  },
  {
   "cell_type": "code",
   "execution_count": 18,
   "id": "16c5850f",
   "metadata": {
    "slideshow": {
     "slide_type": "fragment"
    }
   },
   "outputs": [
    {
     "name": "stdout",
     "output_type": "stream",
     "text": [
      "1 est impair\n",
      "2 est pair\n",
      "3 est impair\n",
      "4 est pair\n",
      "5 est impair\n",
      "6 est pair\n",
      "7 est impair\n",
      "8 est pair\n",
      "9 est impair\n"
     ]
    }
   ],
   "source": [
    "# boucle while\n",
    "index = 1\n",
    "while index < 10 : \n",
    "    if index % 2 == 0:\n",
    "        print(index, \"est pair\")\n",
    "    else :\n",
    "        print(index, \"est impair\")\n",
    "    index += 1 # equivalent à : index = index + 1"
   ]
  },
  {
   "cell_type": "markdown",
   "id": "10c9b3ed",
   "metadata": {
    "slideshow": {
     "slide_type": "subslide"
    }
   },
   "source": [
    "### `break` et `continue`\n",
    "\n",
    "- `break` permet de sortir d'une boucle\n",
    "- `continue` permet de sauter directement à la prochaine itération"
   ]
  },
  {
   "cell_type": "code",
   "execution_count": 24,
   "id": "3cbd1ba6",
   "metadata": {
    "slideshow": {
     "slide_type": "-"
    }
   },
   "outputs": [
    {
     "name": "stdout",
     "output_type": "stream",
     "text": [
      "1\n",
      "2\n",
      "5\n",
      "6\n",
      "Bye\n"
     ]
    }
   ],
   "source": [
    "# Affiche:  1 2 5 6 Bye\n",
    "for i in range(1,10):\n",
    "    if (i > 2) and (i < 5) :\n",
    "        continue\n",
    "    elif i == 7 :\n",
    "        print(\"Bye\")\n",
    "        break\n",
    "    print(i)"
   ]
  },
  {
   "cell_type": "markdown",
   "id": "035b27ef",
   "metadata": {
    "slideshow": {
     "slide_type": "fragment"
    }
   },
   "source": [
    "Dans certains cas, `break` et `continue` rend le code plus difficile à comprendre, donc à utiliser avec parcimonie ..."
   ]
  },
  {
   "cell_type": "markdown",
   "id": "1b9262d8",
   "metadata": {
    "slideshow": {
     "slide_type": "subslide"
    }
   },
   "source": [
    "### Quitter une boucle infinie\n",
    "Dans un script \"normal :\n",
    "- `Ctrl`+ `c` devrait suffir dans 90% des cas ...\n",
    "\n",
    "Dans Jupyter :\n",
    "1. Stopper la cellule (fonctionne dans 90% des cas ...)\n",
    "2. Stopper/Redémarrer le \"kernel\""
   ]
  },
  {
   "cell_type": "markdown",
   "id": "bf614922",
   "metadata": {
    "slideshow": {
     "slide_type": "slide"
    }
   },
   "source": [
    "### Les fonctions\n",
    "\n",
    "Les fonctions sont définies avec le mot-clé `def` et `return` :\n",
    "```python\n",
    "def nomFonction(param1,param2,param3, ...):\n",
    "    ...\n",
    "    return ... # pas obligatoire \n",
    "```\n",
    "\n",
    "Pas besoin de préciser le type de retour de la fonction. \n",
    "\n",
    "Une fonction peut retourner **0**, **1** ou **plusieures** valeurs de type différents : `return 12,\"bonjour\", 12.4`\n",
    "\n",
    "Si la fonction ne retourne rien, elle retourne `None` (une valeur spéciale mais très utile en python)\n"
   ]
  },
  {
   "cell_type": "code",
   "execution_count": 34,
   "id": "dd48aee4",
   "metadata": {
    "slideshow": {
     "slide_type": "-"
    }
   },
   "outputs": [
    {
     "name": "stdout",
     "output_type": "stream",
     "text": [
      "None\n"
     ]
    }
   ],
   "source": [
    "def test():\n",
    "    a = 1\n",
    "b = test() \n",
    "print(b) # affiche None"
   ]
  },
  {
   "cell_type": "markdown",
   "id": "2e621872",
   "metadata": {
    "slideshow": {
     "slide_type": "subslide"
    }
   },
   "source": [
    " Plusieurs moyen de récupérer les valeurs retournées d'une fonction : "
   ]
  },
  {
   "cell_type": "code",
   "execution_count": 36,
   "id": "d5c2180e",
   "metadata": {},
   "outputs": [
    {
     "name": "stdout",
     "output_type": "stream",
     "text": [
      "Samedi Dimanche\n",
      "('Samedi', 'Dimanche')\n"
     ]
    }
   ],
   "source": [
    "def get_weekend():\n",
    "    return \"Samedi\", \"Dimanche\"\n",
    "\n",
    "s, d = get_weekend()\n",
    "print(s,d) # \"Samedi\", \"Dimanche\"\n",
    "\n",
    "we = get_weekend()\n",
    "print(we) # (\"Samedi\", \"Dimanche\")"
   ]
  },
  {
   "cell_type": "markdown",
   "id": "8a52d3d8",
   "metadata": {
    "slideshow": {
     "slide_type": "notes"
    }
   },
   "source": [
    "Dans le premier cas, on associe chaque valeurs retournée de la fonction à des variables.\n",
    "Dans le deuxième cas, les valeurs retournées sont stockées dans un **tuple**. On peut ensuite accéder aux valeurs retournées."
   ]
  },
  {
   "cell_type": "markdown",
   "id": "58ce5b12",
   "metadata": {
    "slideshow": {
     "slide_type": "subslide"
    }
   },
   "source": [
    "### Paramètres par défaut\n",
    "```python\n",
    "def test(param, param2): \n",
    "    ...\n",
    "def test2(param, param2=5):\n",
    "    ...\n",
    "def test3(param2 = 1, param): # erreur !\n",
    "    ...\n",
    "```\n",
    "Les paramètres qui possèdent une valeur par défaut sont optionnels.\n",
    "\n",
    "Attention à l'ordre dans lequel les paramètres sont écrits. Ce n'est pas possible d'avoir des paramètres par défaut **avant** des paramètres sans valeurs par défaut. \n",
    "\n",
    "Exemple concret :\n"
   ]
  },
  {
   "cell_type": "code",
   "execution_count": 41,
   "id": "f6f0d297",
   "metadata": {
    "cell_style": "split",
    "slideshow": {
     "slide_type": "-"
    }
   },
   "outputs": [
    {
     "name": "stdout",
     "output_type": "stream",
     "text": [
      "Bonjour Sara\n",
      "Bonjour Emma\n"
     ]
    }
   ],
   "source": [
    "def hello(nom=\"Sara\"):\n",
    "    print(\"Bonjour\", nom)\n",
    "    \n",
    "hello() # Bonjour Sara\n",
    "hello(\"Emma\") # Bonjour Emma"
   ]
  },
  {
   "cell_type": "code",
   "execution_count": 44,
   "id": "be84f308",
   "metadata": {
    "cell_style": "split",
    "slideshow": {
     "slide_type": "-"
    }
   },
   "outputs": [
    {
     "name": "stdout",
     "output_type": "stream",
     "text": [
      "1 4\n",
      "1 2\n"
     ]
    }
   ],
   "source": [
    "def test(param,param2=4):\n",
    "    print(param, param2)\n",
    "    \n",
    "test(1) # 1 4\n",
    "test(1,2) # 1 2"
   ]
  },
  {
   "cell_type": "markdown",
   "id": "74425f04",
   "metadata": {
    "slideshow": {
     "slide_type": "skip"
    }
   },
   "source": [
    "Mais si par exemple on essaye la version suivante, on obtient une erreur, car on spécifie d'abord un paramètre avec étiquette et ensuite une valeur sans étiquette :"
   ]
  },
  {
   "cell_type": "code",
   "execution_count": 49,
   "id": "38f168c3",
   "metadata": {
    "slideshow": {
     "slide_type": "-"
    }
   },
   "outputs": [
    {
     "ename": "SyntaxError",
     "evalue": "positional argument follows keyword argument (3542747598.py, line 2)",
     "output_type": "error",
     "traceback": [
      "\u001b[0;36m  Cell \u001b[0;32mIn[49], line 2\u001b[0;36m\u001b[0m\n\u001b[0;31m    test(param2 = 1, 3) # fonctionne pas\u001b[0m\n\u001b[0m                      ^\u001b[0m\n\u001b[0;31mSyntaxError\u001b[0m\u001b[0;31m:\u001b[0m positional argument follows keyword argument\n"
     ]
    }
   ],
   "source": [
    "test(3, param2 = 1) # fonctionne\n",
    "test(param2 = 1, 3) # fonctionne pas"
   ]
  },
  {
   "cell_type": "markdown",
   "id": "12370e36",
   "metadata": {},
   "source": [
    "## Les structures de données\n",
    "\n",
    "Les principales :\n",
    "- Listes\n",
    "- Tuples\n",
    "- Sets\n",
    "- Dictionnaires\n"
   ]
  },
  {
   "cell_type": "markdown",
   "id": "31cc7b0d",
   "metadata": {
    "slideshow": {
     "slide_type": "subslide"
    }
   },
   "source": [
    "### Les listes\n",
    "\n",
    "- `a = [...]` ou `a = list()`\n",
    "- \"Equivalent\" au std::vector en C++.\n",
    "- On peut changer sa taille (ajouter / enlever des éléments).\n",
    "- Peut contenir des éléments de types différents."
   ]
  },
  {
   "cell_type": "code",
   "execution_count": 3,
   "id": "b39ab196",
   "metadata": {
    "slideshow": {
     "slide_type": "subslide"
    }
   },
   "outputs": [
    {
     "name": "stdout",
     "output_type": "stream",
     "text": [
      "1\n",
      "3\n",
      "5\n",
      "3\n",
      "[2, 3]\n",
      "[2, 3, 5]\n",
      "[1, 2, 3, 4, 5, 6]\n"
     ]
    }
   ],
   "source": [
    "maListe = [1,2,3] # je crée une liste avec 3 éléments\n",
    "print(maListe[0]) # affiche le premier élément -> 1 \n",
    "\n",
    "# ajouter 5 à la fin de la liste :\n",
    "maListe.append(5)\n",
    "\n",
    "# enlever le premier élément (indice 0)\n",
    "maListe.pop(0)\n",
    "\n",
    "# afficher la longueur de la liste avec len()\n",
    "print(len(maListe))\n",
    "\n",
    "# on peut aussi accéder aux éléments de la liste avec des indices négatifs\n",
    "print(maListe[-1]) # affiche le dernier élément de la liste \n",
    "print(maListe[-2]) # avant dernier élément\n",
    "\n",
    "# on peut aussi afficher un \"range\" d'éléments avec le symbole ':' [a:b[ \n",
    "print(maListe[0:2]) # retourne une liste avec les deux premiers éléments \n",
    "print(maListe[:]) # affiche toute la liste\n",
    "\n",
    "# on peut additionner deux listes : \n",
    "print([1,2,3] + [4,5,6]) # retourne [1,2,3,4,5,6]"
   ]
  },
  {
   "cell_type": "markdown",
   "id": "81eab9c2",
   "metadata": {
    "slideshow": {
     "slide_type": "subslide"
    }
   },
   "source": [
    "### Les tuples\n",
    "\n",
    "- `a = (...)` ou `a = tuple()`\n",
    "- On ne peut pas changer la taille (ajouter/enlever des éléments)\n",
    "- Plus rapides que les listes\n",
    "- Les opérations de lectures sont les mêmes que pour les listes"
   ]
  },
  {
   "cell_type": "code",
   "execution_count": 9,
   "id": "b6fb58ce",
   "metadata": {
    "slideshow": {
     "slide_type": "subslide"
    }
   },
   "outputs": [
    {
     "name": "stdout",
     "output_type": "stream",
     "text": [
      "2\n",
      "3\n",
      "3\n",
      "2\n",
      "(1, 2)\n",
      "(1, 2, 3)\n",
      "(1, 2, 3, 4, 5, 6)\n"
     ]
    }
   ],
   "source": [
    "monTuple = (1,2,3)\n",
    "print(monTuple[1]) # affiche 2\n",
    "\n",
    "# à part ajouter des éléments, les tuples se comportent comme des listes\n",
    "print(len(monTuple))\n",
    "\n",
    "# on peut aussi accéder aux éléments du tuple avec des indices négatifs\n",
    "print(monTuple[-1]) # affiche le dernier élément du tuple \n",
    "print(monTuple[-2]) # avant dernier élément\n",
    "\n",
    "# on peut aussi afficher un \"range\" d'éléments avec le symbole ':'\n",
    "print(monTuple[0:2]) # retourne un tuple avec les deux premiers éléments \n",
    "print(monTuple[:]) # affiche toute le tuple (un peu inutile)\n",
    "\n",
    "# on peut additionner deux tuples : \n",
    "print((1,2,3) + (4,5,6)) # retourne (1,2,3,4,5,6)"
   ]
  },
  {
   "cell_type": "markdown",
   "id": "51ace260",
   "metadata": {
    "slideshow": {
     "slide_type": "subslide"
    }
   },
   "source": [
    "### Les sets\n",
    "- `a = {...}` ou `a = set()`\n",
    "- Chaque élément d'un set est unique.\n",
    "- Sont très utiles pour enlever des duplicats et effectuer des opérations d'ensemble\n"
   ]
  },
  {
   "cell_type": "code",
   "execution_count": 16,
   "id": "c726aed7",
   "metadata": {
    "slideshow": {
     "slide_type": "subslide"
    }
   },
   "outputs": [
    {
     "name": "stdout",
     "output_type": "stream",
     "text": [
      "{1, 2}\n",
      "{1, 2, 4, 5, 6, 10}\n",
      "{4, 5, 6}\n",
      "{4, 5, 6}\n"
     ]
    }
   ],
   "source": [
    "a = [1,2,3,4,5,5,5] # liste avec 3 élements \"5\"\n",
    "a = set(a) # on enlève les duplicats \"5\" en convertissant\n",
    "\n",
    "a.add(6) # on ajoute l'élement 6\n",
    "a.remove(3) # on enlève l'élément 3\n",
    "\n",
    "b = {1,2,10}\n",
    "print(a.intersection(b))\n",
    "print(a.union(b))\n",
    "print(a.difference(b))\n",
    "print(a.difference(b))"
   ]
  },
  {
   "cell_type": "markdown",
   "id": "71377b3d",
   "metadata": {
    "slideshow": {
     "slide_type": "subslide"
    }
   },
   "source": [
    "### Les dictionnaires\n",
    "\n",
    "- `a = {...}` ou `a = dict()`\n",
    "- Chaque valeur correspond à une clé (unique), généralement un string.\n",
    "- TRES puissants en python"
   ]
  },
  {
   "cell_type": "code",
   "execution_count": 4,
   "id": "97c7a624",
   "metadata": {
    "slideshow": {
     "slide_type": "subslide"
    }
   },
   "outputs": [
    {
     "name": "stdout",
     "output_type": "stream",
     "text": [
      "Nom donné au symbole: '&'.\n",
      "{'esperluette': \"Nom donné au symbole: '&'.\", 'nonupler': 'Multiplier par neuf.'}\n",
      "-> Avec .keys()\n",
      "Clé : esperluette\n",
      "Valeur : Nom donné au symbole: '&'.\n",
      "---\n",
      "Clé : nonupler\n",
      "Valeur : Multiplier par neuf.\n",
      "---\n",
      "-> Avec .items()\n",
      "Clé : esperluette\n",
      "Valeur : Nom donné au symbole: '&'.\n",
      "---\n",
      "Clé : nonupler\n",
      "Valeur : Multiplier par neuf.\n",
      "---\n",
      "2\n",
      "{'esperluette': \"Nom donné au symbole: '&'.\"}\n"
     ]
    }
   ],
   "source": [
    "myDict = {\"esperluette\" : \"Nom donné au symbole: '&'.\"}\n",
    "\n",
    "print(myDict[\"esperluette\"])\n",
    "myDict[\"nonupler\"] = \"Multiplier par neuf.\"\n",
    "\n",
    "print(myDict)\n",
    "print(\"-> Avec .keys()\")\n",
    "for key in myDict.keys(): # Pareil : for key in myDict : \n",
    "    print(\"Clé :\", key)\n",
    "    print(\"Valeur :\", myDict[key])\n",
    "    print(\"---\")\n",
    "# ou \n",
    "print(\"-> Avec .items()\")\n",
    "for key, value in myDict.items() : \n",
    "    print(\"Clé :\", key)\n",
    "    print(\"Valeur :\", value)\n",
    "    print(\"---\")\n",
    "\n",
    "print(len(myDict)) # taille du dictionnaire \n",
    "myDict.pop(\"nonupler\") # enlève la clé voulue et la valeur associée. \n",
    "print(myDict)"
   ]
  },
  {
   "cell_type": "markdown",
   "id": "cab981ab",
   "metadata": {
    "slideshow": {
     "slide_type": "subslide"
    }
   },
   "source": [
    "### Les chaines de caractère\n",
    "Les chaines de caractères peuvent être écrit sur une ligne : `\"...\"`, `'...'` ou sur plusieurs lignes : `\"\"\"...\"\"\"`.\n",
    "\n",
    "On peut accéder aux éléments d'un string et y itérer : "
   ]
  },
  {
   "cell_type": "code",
   "execution_count": 17,
   "id": "1c56b59e",
   "metadata": {
    "slideshow": {
     "slide_type": "-"
    }
   },
   "outputs": [
    {
     "name": "stdout",
     "output_type": "stream",
     "text": [
      "Le mot contient 6 lettres\n",
      "Que serait-ce une salade de fruits sans le raisin ?\n",
      "r,a,i,s,i,n,"
     ]
    }
   ],
   "source": [
    "mot = \"raisin\"\n",
    "r = mot[0]\n",
    "n = mot[-1]\n",
    "\n",
    "phrase = \"Que serait-ce une salade de fruits sans le \" + mot + \" ?\"\n",
    "print(\"Le mot contient\",len(mot),\"lettres\")\n",
    "print(phrase)\n",
    "\n",
    "for lettre in mot : \n",
    "    print(lettre, end=\",\")    "
   ]
  },
  {
   "cell_type": "markdown",
   "id": "cb92e85c",
   "metadata": {
    "slideshow": {
     "slide_type": "subslide"
    }
   },
   "source": [
    "Les strings possèdent de nombreuses autres fonctions `monString.<fonction>, comme :\n",
    "- `monString.upper()`: transforme le string en majuscule\n",
    "- `lower()`: transforme en minuscule\n",
    "- `strip()` : Enlève les espaces au début et à la fin.\n",
    "- `replace(avant,après)`: remplace la séquence 'avant' avec la séquence 'après'\n",
    "- `split(sep)` : sépare chaque élément du string à l'endroit de 'sep'\n",
    "\n",
    "Pour voir les autres fonctions : `dir(\"monstring\")`, ou la [documentation](https://docs.python.org/3/library/string.html)"
   ]
  },
  {
   "cell_type": "markdown",
   "id": "214ab221",
   "metadata": {
    "slideshow": {
     "slide_type": "subslide"
    }
   },
   "source": [
    "#### Formatage d'une chaine de caractère\n",
    "Le code suivant est possible mais pas très pratique :\n",
    "```python\n",
    "pi = 3.14\n",
    "myString  = \"Le nombre pi est environ égal à \" + pi\n",
    "```\n",
    "Pour le réduire, on peut utiliser les `fstrings`, en précédant la chaine de caractère par un \"f\" et en insérant la variable entre accolades `{}`: \n",
    "```python\n",
    "fstring = f\"Ceci est un fstring\"\n",
    "```\n",
    "\n",
    "On peut maintenant réécrire la phrase suivante :\n",
    "```python\n",
    "pi = 3.14\n",
    "myString = f\"Le nombre pi est environ égal à {pi}\"\n",
    "```"
   ]
  },
  {
   "cell_type": "markdown",
   "id": "d4b81b3f",
   "metadata": {
    "slideshow": {
     "slide_type": "subslide"
    }
   },
   "source": [
    "On peut inclure des expression python dans les accolades dans les accolades :\n",
    "```python\n",
    "formation = \"ing\"\n",
    "print(f\"Le nombre pi est égal à {'3' if formation =='ing' else '3.1415' }\")\n",
    "```\n",
    "\n",
    "On peut formatter des nombres directement entre les accolades grâce à la syntaxe `:.`"
   ]
  },
  {
   "cell_type": "code",
   "execution_count": 7,
   "id": "8b5fc970",
   "metadata": {
    "slideshow": {
     "slide_type": "-"
    }
   },
   "outputs": [
    {
     "name": "stdout",
     "output_type": "stream",
     "text": [
      "En notation scientifique : 1.2346e+05\n",
      "Approximation au 1er chiffre après la virgule 123456.8\n"
     ]
    }
   ],
   "source": [
    "test = 123456.789\n",
    "print(f\"En notation scientifique : {test:.4e}\") # e pour exponentielle\n",
    "print(f\"Approximation au 1er chiffre après la virgule {test:.1f}\") # f pour float"
   ]
  },
  {
   "cell_type": "markdown",
   "id": "a1b7e561",
   "metadata": {},
   "source": [
    "Pour en savoir plus : https://docs.python.org/3/reference/lexical_analysis.html#f-strings"
   ]
  },
  {
   "cell_type": "markdown",
   "id": "50ecbd88",
   "metadata": {
    "slideshow": {
     "slide_type": "slide"
    }
   },
   "source": [
    "## Les modules et packages\n",
    "\n",
    "Lorsque le code devient plus long et compliqué, il est plus judicieux de le diviser en plusieurs fichiers différents, selon leur fonctionalités.\n",
    "\n",
    "Un **module** est un fichier python contenant des fonctions, etc et qui est importé dans un autre fichier python.\n",
    "\n",
    "Un **package**, très simplement, est un ensemble de modules.\n",
    "\n",
    "Dans la suite, je vais confondre les deux, mais au final, le principe reste le même."
   ]
  },
  {
   "cell_type": "markdown",
   "id": "1286894a",
   "metadata": {
    "slideshow": {
     "slide_type": "subslide"
    }
   },
   "source": [
    "### Modules\n",
    "\n",
    "Pour créer un module, il suffit de créer un nouveau fichier nommé `nomModule.py`, où l'on écrit du code python.\n",
    "\n",
    "Dans le fichier principal `main.py`, on peut alors importer le fichier en utilisant le mot clé `import` (si le module est dans le même dossier que le fichier principal). "
   ]
  },
  {
   "cell_type": "markdown",
   "id": "dd7b3006",
   "metadata": {
    "cell_style": "split",
    "slideshow": {
     "slide_type": "-"
    }
   },
   "source": [
    "`monModule.py`\n",
    "```python\n",
    "def bonjour():\n",
    "    return \"Hello !\"\n",
    "```"
   ]
  },
  {
   "cell_type": "markdown",
   "id": "930f858f",
   "metadata": {
    "cell_style": "split",
    "slideshow": {
     "slide_type": "-"
    }
   },
   "source": [
    "`main.py`\n",
    "```python\n",
    "import monModule # sans l'extension .py !\n",
    "monModule.bonjour() # affiche \"Hello !\" \n",
    "```"
   ]
  },
  {
   "cell_type": "markdown",
   "id": "3be10978",
   "metadata": {
    "slideshow": {
     "slide_type": "subslide"
    }
   },
   "source": [
    "Souvent, on veut importer seulement quelques fonctions d'un module, on utilise le mot-clé `from` : \n",
    "```python\n",
    "# from <module> import <fonction>\n",
    "from math import cos, sin, exp # on peut importer plusieurs fonctions à la suite\n",
    "x = 1\n",
    "y = cos(x)\n",
    "```\n",
    "Le mot-clé `as` permet d'associer un autre nom à un package pour l'utiliser plus simplement dans son code : \n",
    "```python\n",
    "import numpy as np\n",
    "x = 1\n",
    "y = np.cos(x) # au lieu de : y = numpy.cos(x)\n",
    "```"
   ]
  },
  {
   "cell_type": "markdown",
   "id": "ff28c0f2",
   "metadata": {
    "slideshow": {
     "slide_type": "subslide"
    }
   },
   "source": [
    "### Packages\n",
    "\n",
    "Pour créer un package, on utilise la structure de fichier suivante :\n",
    "![](assets/structurePackage.png)\n",
    "\n",
    "Les fichiers `monModuleX.py` contiennent les implémentations des fonctions / classes.\n",
    "\n",
    "Le fichier `__init__.py` est un peu spécial, il peut contenir du code, mais il est surtout là pour spécifier que c'est un package, même s'il est vide. Dans les versions récentes de python, il n'est plus obligatoire, mais reste très recommandé...\n"
   ]
  },
  {
   "cell_type": "markdown",
   "id": "3b4f7bda",
   "metadata": {
    "slideshow": {
     "slide_type": "subslide"
    }
   },
   "source": [
    "### Les différents types de packages\n",
    "\n",
    "- Les packages fournis avec l'installation de python, pas besoin de les installer : `sys`, `json`, `os`, ...\n",
    "- Les packages développés par des personnes tiers, installés avec le gestionnaire de paquet `pip`: `matplotlib`, `numpy` ... \n",
    "    + `pip install <module>`\n",
    "- Les packages développés par nous : en utilisant la structure mentionnée plus haut."
   ]
  },
  {
   "cell_type": "markdown",
   "id": "678f7d81",
   "metadata": {
    "slideshow": {
     "slide_type": "subslide"
    }
   },
   "source": [
    "### NumPy\n",
    "\n",
    "- Module utilisé pour le calcul scientifique.\n",
    "- L'élément principal est le `numpy.ndarray`, équivalent aux listes python, mais optimisé pour le calcul, peuvent être à une dimension ou plus. \n",
    "- Utilise le langage C au niveau interne, donc très rapide !"
   ]
  },
  {
   "cell_type": "code",
   "execution_count": 13,
   "id": "69940a86",
   "metadata": {
    "slideshow": {
     "slide_type": "-"
    }
   },
   "outputs": [
    {
     "name": "stdout",
     "output_type": "stream",
     "text": [
      "[1, 2, 3, 4, 5, 6]\n",
      "[5 7 9]\n"
     ]
    }
   ],
   "source": [
    "import numpy as np\n",
    "\n",
    "sommeListe = [1,2,3] + [4,5,6]\n",
    "sommeArray = np.array([1,2,3]) + np.array([4,5,6])\n",
    "print(sommeListe) # python \"somme\" bêtement les listes.\n",
    "print(sommeArray) # la somme se fait sur les éléments de l'array"
   ]
  },
  {
   "cell_type": "markdown",
   "id": "be9549aa",
   "metadata": {
    "slideshow": {
     "slide_type": "-"
    }
   },
   "source": [
    "En passant des numpy.ndarrays dans des fonctions numpy (et des fonctions définies avec `def`), les fonctions est appliquée à tous les éléments du numpy.ndarrays. On appelle ça le *broadcasting*.\n",
    "\n",
    "La librairie NumPy est presque obligatoire lorsqu'on travaille avec un large set de données.\n"
   ]
  },
  {
   "cell_type": "markdown",
   "id": "ecb891d2",
   "metadata": {
    "slideshow": {
     "slide_type": "-"
    }
   },
   "source": [
    "Pour plus d'information : la documentation [NumPy](https://numpy.org/)"
   ]
  },
  {
   "cell_type": "markdown",
   "id": "7b8ae5a5",
   "metadata": {
    "slideshow": {
     "slide_type": "subslide"
    }
   },
   "source": [
    "### Matplotlib\n",
    "- [Matplotlib](https://matplotlib.org/) est une librarie pour faire des graphiques\n",
    "- Permet de faire beaucoup de choses, mais dans 90%, on utilise le module `matplotlib.pyplot`, que l'on associe souvent avec le raccourci `plt`.\n",
    "- Deux modes de fonctionnements : \n",
    "    + En utilisant `plt` directement: simple, mais l'ordre des commandes importe !\n",
    "    + En utilisant l'approche \"orienté-objet\", plus facile pour une utilisation plus poussée. \n",
    "Toute la documentation se trouve [ici](https://matplotlib.org/).\n",
    "\n",
    "Les [exemples](https://matplotlib.org/stable/plot_types/index.html) sur le site sont très bien fait !\n",
    "\n",
    "Deux exemples, illustrant les deux méthodes : "
   ]
  },
  {
   "cell_type": "code",
   "execution_count": 17,
   "id": "16eae51c",
   "metadata": {
    "slideshow": {
     "slide_type": "subslide"
    }
   },
   "outputs": [
    {
     "data": {
      "image/png": "[encoded data removed]",
      "text/plain": [
       "<Figure size 800x400 with 1 Axes>"
      ]
     },
     "metadata": {},
     "output_type": "display_data"
    }
   ],
   "source": [
    "# 1ère méthode : plt.\n",
    "import matplotlib.pyplot as plt\n",
    "import numpy as np\n",
    "\n",
    "x = np.linspace(0, 2 * np.pi, 100)\n",
    "\n",
    "# Le premier appel à plt créé une figure\n",
    "plt.figure(figsize=(8, 4))\n",
    "# Toutes les commandes suivantes modifient cette figure\n",
    "plt.xlabel('$x$', fontsize = 20)\n",
    "plt.ylabel('$f(x)$', fontsize = 20)\n",
    "plt.plot(x, np.sin(x), 'r-', label = '$f = \\sin$') # \"rouge, trait plein\", le label va apparaitre dans la légende  \n",
    "plt.plot(x, np.cos(x), 'b--', label = '$f = \\cos$')\n",
    "plt.xlim(0, 2 * np.pi)\n",
    "plt.ylim(-1, 1)\n",
    "plt.legend() # affiche la légende des courbes\n",
    "plt.show() # affiche le graphique et bloque l'exécution du code\n",
    "\n",
    "# Il est possible de sauver la figure dans un fichier comme ci-dessous\n",
    "#plt.savefig('fichier.pdf')"
   ]
  },
  {
   "cell_type": "code",
   "execution_count": 22,
   "id": "2ba89d56",
   "metadata": {
    "slideshow": {
     "slide_type": "subslide"
    }
   },
   "outputs": [
    {
     "data": {
      "image/png": "[encoded data removed]",
      "text/plain": [
       "<Figure size 800x400 with 1 Axes>"
      ]
     },
     "metadata": {},
     "output_type": "display_data"
    }
   ],
   "source": [
    "# 2ème méthode\n",
    "import matplotlib.pyplot as plt\n",
    "import numpy as np\n",
    "\n",
    "x = np.linspace(0, 2 * np.pi, 100)\n",
    "\n",
    "# Création d'un objet Figure (fig) contenant un seul graphique (ax)\n",
    "fig, ax = plt.subplots()\n",
    "# Modification de l'objet fig\n",
    "fig.set_size_inches(8, 4)\n",
    "# Modifications de l'objet ax\n",
    "ax.set_xlabel('$x$', fontsize = 20)\n",
    "ax.set_ylabel('$f(x)$', fontsize = 20)\n",
    "ax.plot(x, np.sin(x), 'r-', label = '$f = \\sin$')\n",
    "ax.plot(x, np.cos(x), 'b--', label = '$f = \\cos$')\n",
    "ax.set_xlim(0, 2 * np.pi)\n",
    "ax.set_ylim(-1, 1)\n",
    "ax.legend()\n",
    "plt.show() # affiche le graphique et bloque l'exécution du code"
   ]
  },
  {
   "cell_type": "markdown",
   "id": "9a67e8f3",
   "metadata": {
    "slideshow": {
     "slide_type": "slide"
    }
   },
   "source": [
    "## Les classes et l'orienté-objet\n",
    "\n",
    "### Pourquoi ?\n",
    "\n",
    "Supposons que l'on veuille décrire une personne : \n",
    "```python\n",
    "personnePrenom = \"Sarah\"\n",
    "personneAge = 20\n",
    "personneVille = \"Genève\"\n",
    "personneHobbies = [\"velo\", \"echecs\",\"grimpe\"]\n",
    "\n",
    "```\n",
    "Si l'on a qu'une seule personne, ça va... Mais si lorsqu'on veut créer plusieurs personnes, la complexité va augmenter. \n",
    "\n",
    "```python\n",
    "personnePrenoms = [\"Sarah\", \"Erik\", \"Valon\"]\n",
    "personnesAges = [20, 40, 70]\n",
    "...\n",
    "```\n",
    "\n",
    "Pas très pratique... On utilise les classes !\n"
   ]
  },
  {
   "cell_type": "markdown",
   "id": "43ff367c",
   "metadata": {
    "slideshow": {
     "slide_type": "subslide"
    }
   },
   "source": [
    "Le principe est de créer un chablon pour une personne : \n",
    "\n",
    "On veut :\n",
    "- un prénom\n",
    "- un âge\n",
    "- une ville\n",
    "- des hobbies\n",
    "\n"
   ]
  },
  {
   "cell_type": "code",
   "execution_count": 1,
   "id": "4c8079e4",
   "metadata": {
    "slideshow": {
     "slide_type": "fragment"
    }
   },
   "outputs": [
    {
     "ename": "TypeError",
     "evalue": "Personne.__init__() missing 2 required positional arguments: 'prenom' and 'age'",
     "output_type": "error",
     "traceback": [
      "\u001b[0;31m---------------------------------------------------------------------------\u001b[0m",
      "\u001b[0;31mTypeError\u001b[0m                                 Traceback (most recent call last)",
      "Cell \u001b[0;32mIn[1], line 11\u001b[0m\n\u001b[1;32m      8\u001b[0m         \u001b[38;5;28mself\u001b[39m\u001b[38;5;241m.\u001b[39mville \u001b[38;5;241m=\u001b[39m ville\n\u001b[1;32m      9\u001b[0m         \u001b[38;5;28mself\u001b[39m\u001b[38;5;241m.\u001b[39mhobbies \u001b[38;5;241m=\u001b[39m hobbies\n\u001b[0;32m---> 11\u001b[0m personne1 \u001b[38;5;241m=\u001b[39m \u001b[43mPersonne\u001b[49m\u001b[43m(\u001b[49m\u001b[43m)\u001b[49m\n",
      "\u001b[0;31mTypeError\u001b[0m: Personne.__init__() missing 2 required positional arguments: 'prenom' and 'age'"
     ]
    }
   ],
   "source": [
    "class Personne :\n",
    "    \n",
    "    # le constructeur : obligatoire !\n",
    "    def __init__(self, prenom, age, ville=\"Genève\", hobbies=[\"velo\",\"pêche\", \"ping pong\"]) :\n",
    "        # self fait référence à la classe\n",
    "        self.prenom = prenom\n",
    "        self.age = age\n",
    "        self.ville = ville\n",
    "        self.hobbies = hobbies\n",
    "        \n",
    "personne1 = Personne()"
   ]
  },
  {
   "cell_type": "code",
   "execution_count": null,
   "id": "7d64229b",
   "metadata": {
    "slideshow": {
     "slide_type": "subslide"
    }
   },
   "outputs": [],
   "source": [
    "```python\n",
    "personne1 = Personne(\n",
    "    prenom = \"Sarah\",\n",
    "    age = 20,a\n",
    "    ville = \"Genève\",\n",
    "    hobbies = [\"velo\", \"echecs\",\"grimpe\"]\n",
    ")\n",
    "\n",
    "personne1.manger\n",
    "```\n"
   ]
  }
 ],
 "metadata": {
  "celltoolbar": "Slideshow",
  "kernelspec": {
   "display_name": "Python 3 (ipykernel)",
   "language": "python",
   "name": "python3"
  },
  "language_info": {
   "codemirror_mode": {
    "name": "ipython",
    "version": 3
   },
   "file_extension": ".py",
   "mimetype": "text/x-python",
   "name": "python",
   "nbconvert_exporter": "python",
   "pygments_lexer": "ipython3",
   "version": "3.11.2"
  },
  "rise": {
   "margin": 0.02,
   "scroll": true,
   "transition": "fade"
  }
 },
 "nbformat": 4,
 "nbformat_minor": 5
}
