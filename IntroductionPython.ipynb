{
 "cells": [
  {
   "cell_type": "markdown",
   "id": "6b34c90d",
   "metadata": {
    "cell_style": "center",
    "slideshow": {
     "slide_type": "slide"
    }
   },
   "source": [
    "# Introduction à Python\n",
    "\n",
    "![](assets/logo_python.png)\n",
    "\n",
    "\n",
    "<div style=\"display:flex; justify-content:space-around ; font-size:20px\"><div> TPI - Module Python</div> <span> Université de Genève</div></div>\n"
   ]
  },
  {
   "cell_type": "markdown",
   "id": "a4ba0f5e",
   "metadata": {
    "slideshow": {
     "slide_type": "slide"
    },
    "tags": []
   },
   "source": [
    "## Pourquoi Python ? \n",
    "\n",
    "- Assez simple à utiliser et à lire\n",
    "- Versatile : scripting, data science, machine learning, web, etc...\n",
    "- Interactif \n",
    "- **BEAUCOUP** de librairies disponibles\n",
    "\n",
    "Mais...\n",
    "- Python \"pur\" assez lent, et encore... "
   ]
  },
  {
   "cell_type": "markdown",
   "id": "b2f8faa1-bbb8-4fbd-8aad-308b36549d5a",
   "metadata": {
    "slideshow": {
     "slide_type": "notes"
    },
    "tags": []
   },
   "source": [
    "Contrairement à par exemple C++, python est très interactif parce que ce n'est pas un langage compilé. Donc très utile pour expérimenter (Ecrire, tester, écrire, tester... )\n",
    "\n",
    "Le compilateur C++ va regarder le programme dans son ensemble et va pouvoir trouver des erreurs avant même d'avoir excécuté le code. Puisqu'il connait tout le code, il peut aussi faire des optimisations.\n",
    "Python, sans entrer dans les détails, va être lu \"ligne par ligne\", donc pas d'optimisations, et le code peut avoir l'air de bien fonctionner, mais il suffit de faire tourner une fonction avec une erreur pour faire crasher le programme. Pour les gros projets, c'est important de bien tester le code."
   ]
  },
  {
   "cell_type": "markdown",
   "id": "f9d595de-303a-490e-949d-3f26d12ba14e",
   "metadata": {
    "cell_style": "center",
    "slideshow": {
     "slide_type": "slide"
    },
    "tags": []
   },
   "source": [
    "**C++**  `hello_world.cpp`\n",
    "```c++\n",
    "#include <iostream>\n",
    "#include <string>\n",
    "\n",
    "int main(){\n",
    "    std::string temps = \"pluvieux\";\n",
    "    std::cout<<\"Hello World\"<<std::endl;\n",
    "    if (temps == \"pluvieux\"){\n",
    "        std::cout << \"Il ne fait pas très beau...\"<<std::endl;\n",
    "    }\n",
    "    else {\n",
    "        std::cout << \"Wow, du beau temps !\" <<std::endl;\n",
    "    }\n",
    "  return 0;\n",
    "}\n",
    "```"
   ]
  },
  {
   "cell_type": "markdown",
   "id": "663e46ba-c073-44bd-977d-049a00ed0089",
   "metadata": {
    "cell_style": "center",
    "slideshow": {
     "slide_type": "slide"
    },
    "tags": []
   },
   "source": [
    "**Python**  `hello_world.py`\n",
    "```python\n",
    "temps = \"pluvieux\"\n",
    "print(\"Hello World\")\n",
    "if temps == \"pluvieux\":\n",
    "    print(\"Il ne fait pas très beau...\")\n",
    "else :\n",
    "    print(\"Wow, du beau temps !\")\n",
    "```"
   ]
  },
  {
   "cell_type": "markdown",
   "id": "b51ee70f-3ceb-414b-8fdb-d55fba7a188f",
   "metadata": {
    "slideshow": {
     "slide_type": "notes"
    },
    "tags": []
   },
   "source": [
    "On remarque plusieurs choses :\n",
    "- Le fichier finit par `.py`\n",
    "- Pas de point-virgule à la fin des lignes\n",
    "- L'indentation (tab, ou 4 espaces) définit les blocs, pas `{}`\n",
    "- Les types ne sont pas spécifiés dans la déclaration, python essaye de les deviner. \n",
    "- La logique reste la même (heureusement...)\n",
    "\n",
    "Si l'indentation n'est pas correcte (incohérence entre `tab` et espaces, ou bien pas le même nombre d'espaces), l'interpréteur python va gentillement vous répondre par un `IndentationError: unexpected indent`."
   ]
  },
  {
   "cell_type": "markdown",
   "id": "d29c9925",
   "metadata": {
    "slideshow": {
     "slide_type": "slide"
    },
    "tags": []
   },
   "source": [
    "## Python dans un fichier\n",
    "\n",
    "En C++ : `g++ -o nomExecutable nomFichier.cpp && ./nomExecutable`\n",
    "\n",
    "En python : `python3 nomFichier.py`\n"
   ]
  },
  {
   "cell_type": "markdown",
   "id": "96418918",
   "metadata": {
    "slideshow": {
     "slide_type": "notes"
    }
   },
   "source": [
    "On peut noter le \"3\" à la fin de la commande `python3`. Il y a en réalité plusieures version de python, dont deux sont vraiment différentes : python 2.x et python 3.x . Python 2 est obsolète depuis 2020, mais la transition n'est pas encore finie. C'est donc plus sûr de spécifier la version."
   ]
  },
  {
   "cell_type": "markdown",
   "id": "877f78ed",
   "metadata": {
    "slideshow": {
     "slide_type": "slide"
    }
   },
   "source": [
    "## Python dans l'interpéteur\n",
    "\n",
    "Dans le terminal : `python3`.\n",
    "![](assets/interpreteur.png)\n",
    "\n",
    "Permet de tester rapidement du code, moins pratique pour de plus grands projets.\n",
    "\n",
    "Pour le quitter : `Ctrl`+`d`\n"
   ]
  },
  {
   "cell_type": "markdown",
   "id": "578abb4c",
   "metadata": {
    "slideshow": {
     "slide_type": "slide"
    }
   },
   "source": [
    "## Jupyter\n",
    "\n",
    "Permet d'écrire du code python comme dans un fichier, mais de manière plus interactive, sous forme de **notebook**\n",
    "\n",
    "En plus d'éditer du code python :\n",
    "- Support pour d'autres langages de programmation. \n",
    "- Ecrire facilement des équations en $\\LaTeX$.\n",
    "- Afficher des images et des vidéos.\n",
    "- Afficher des graphiques interactifs.\n",
    "- Construire des interfaces graphiques."
   ]
  },
  {
   "cell_type": "markdown",
   "id": "61206016",
   "metadata": {
    "slideshow": {
     "slide_type": "subslide"
    }
   },
   "source": [
    "Jupyter se structure avec des **cellules** comme celle en dessous. "
   ]
  },
  {
   "cell_type": "code",
   "execution_count": null,
   "id": "cea6f167",
   "metadata": {
    "slideshow": {
     "slide_type": "-"
    }
   },
   "outputs": [],
   "source": []
  },
  {
   "cell_type": "markdown",
   "id": "ce5fb9e5",
   "metadata": {
    "slideshow": {
     "slide_type": "-"
    }
   },
   "source": [
    "Pour exécuter son contenu : `shift`+`enter`"
   ]
  },
  {
   "cell_type": "markdown",
   "id": "15557ffb",
   "metadata": {
    "slideshow": {
     "slide_type": "-"
    }
   },
   "source": [
    "Il en existe 3 types : <u>Code</u>, <u>Markdown</u> et <u>Raw</u>\n",
    "- **Code** : Pour... le code.\n",
    "- **Markdown** : Permet de mettre en forme du texte, d'ajouter des images et des équations $\\LaTeX$.\n",
    "- **Raw** : Du texte brut."
   ]
  },
  {
   "cell_type": "code",
   "execution_count": 28,
   "id": "2ff98129",
   "metadata": {
    "scrolled": true,
    "slideshow": {
     "slide_type": "subslide"
    }
   },
   "outputs": [
    {
     "name": "stdout",
     "output_type": "stream",
     "text": [
      "Bonjour\n"
     ]
    }
   ],
   "source": [
    "# une cellule python\n",
    "print(\"Bonjour\")"
   ]
  },
  {
   "cell_type": "markdown",
   "id": "25102868",
   "metadata": {
    "slideshow": {
     "slide_type": "-"
    }
   },
   "source": [
    "une cellule Markdown"
   ]
  },
  {
   "cell_type": "raw",
   "id": "865e5aa8",
   "metadata": {},
   "source": [
    "Une cellule raw "
   ]
  },
  {
   "cell_type": "markdown",
   "id": "2c6968fc",
   "metadata": {
    "slideshow": {
     "slide_type": "skip"
    }
   },
   "source": [
    "Le formattage du texte en markdown suit une certaine syntaxe (liste non-exhaustive) : \n",
    "```markdown\n",
    "# Titre\n",
    "Titre\n",
    "---\n",
    "\n",
    "## Sous-titre\n",
    "### sous-sous-sous titre\n",
    "etc...\n",
    "\n",
    "Mot en **gras** ou __gras__.\n",
    "Mot en *italique*\n",
    "\n",
    "```\n",
    "\n",
    "En `monospace` pour du code sans coloration syntaxique\n",
    "\n",
    "Avec 3 guillemets pour écrire un bloc de code avec coloration\n",
    "```python\n",
    "def bonjour():\n",
    "    print(\"Bonjour\")\n",
    "```\n",
    "\n",
    "```c++\n",
    "int main(){\n",
    "    return 0;\n",
    "}\n",
    "```\n",
    "\n",
    "3 tirets pour une ligne horizontale\n",
    "\n",
    "--- \n",
    "\n",
    "Une liste non numérotée :\n",
    "- Un chat\n",
    "- Un chien\n",
    "- Un canari\n",
    "\n",
    "Une liste numérotée :\n",
    "1. Un chat\n",
    "2. Un chien\n",
    "3. Un canari\n",
    "\n",
    "On peut aussi faire des cases à cocher :\n",
    "- [ ] Case non cochée\n",
    "- [x] Case cochée\n",
    "\n",
    "Un tableau :\n",
    "\n",
    "| Syntax | Description |\n",
    "| --- | ----------- |\n",
    "| Header | Title |\n",
    "| Paragraph | Text |\n",
    "\n",
    "Inclure une image `![](url)`\n",
    "\n",
    "Inclure un lien : `[texte affiché](url)`\n",
    "\n",
    "Si markdown est trop restrictif, il est même possible d'inclure du code html et css ! \n",
    "\n",
    "\n",
    "Pour plus de détails et plus d'exemples, voir ce site : [https://www.markdownguide.org/extended-syntax/](https://www.markdownguide.org/extended-syntax/)\n"
   ]
  },
  {
   "cell_type": "markdown",
   "id": "25e39de6",
   "metadata": {
    "slideshow": {
     "slide_type": "slide"
    }
   },
   "source": [
    "## Les variables\n"
   ]
  },
  {
   "cell_type": "code",
   "execution_count": 7,
   "id": "8dbd867b",
   "metadata": {
    "slideshow": {
     "slide_type": "-"
    }
   },
   "outputs": [
    {
     "name": "stdout",
     "output_type": "stream",
     "text": [
      "3.0\n",
      "<class 'str'>\n"
     ]
    }
   ],
   "source": [
    "myString = \"Hello\"\n",
    "myInt = 2\n",
    "myFloat = 3.14\n",
    "myBool = True\n",
    "myList = [1,2,3,4,5]\n",
    "myDict = {'cle1': 1, 'cle2': 2, 'cle3' : 3}\n",
    "\n",
    "# on peut aussi spécfier explicitement\n",
    "myFloat2 = float(3)\n",
    "myString2 = str(3)\n",
    "print(myFloat2)\n",
    "print(type(myString2))"
   ]
  },
  {
   "cell_type": "markdown",
   "id": "e546a278",
   "metadata": {
    "slideshow": {
     "slide_type": "subslide"
    }
   },
   "source": [
    "On peut aussi assigner plusieurs variables d'un coup. "
   ]
  },
  {
   "cell_type": "code",
   "execution_count": 8,
   "id": "0cd4b8d9",
   "metadata": {
    "slideshow": {
     "slide_type": "-"
    }
   },
   "outputs": [
    {
     "name": "stdout",
     "output_type": "stream",
     "text": [
      "éléphant\n",
      "hyène\n",
      "ours\n",
      "Augustin\n",
      "Brayan\n",
      "Olivier\n"
     ]
    }
   ],
   "source": [
    "a,b,c = \"éléphant\", \"hyène\", \"ours\"\n",
    "\n",
    "print(a) # \"éléphant\"\n",
    "print(b) # \"hyène\"\n",
    "print(c) # \"ours\"\n",
    "\n",
    "d,e,f = [\"Augustin\", \"Brayan\", \"Olivier\"] # unpacking\n",
    "print(d) # \"Augustin\"\n",
    "print(e) # \"Brayan\"\n",
    "print(f) # \"Olivier\" "
   ]
  },
  {
   "cell_type": "markdown",
   "id": "e530d7f1",
   "metadata": {
    "slideshow": {
     "slide_type": "notes"
    }
   },
   "source": [
    "Pas besoin de spécifier explicitement les types lorsqu'on déclare une variable. Python va essayer de deviner le type lui-même. Quand c'est ambigue, vaut mieux le préciser. Un exemple : "
   ]
  },
  {
   "cell_type": "code",
   "execution_count": 18,
   "id": "79a9e600",
   "metadata": {
    "slideshow": {
     "slide_type": "skip"
    }
   },
   "outputs": [
    {
     "name": "stdout",
     "output_type": "stream",
     "text": [
      "<class 'float'>\n",
      "<class 'int'>\n"
     ]
    }
   ],
   "source": [
    "print(type(3/1)) # C'est un float\n",
    "print(type(int(3/1))) # C'est un int."
   ]
  },
  {
   "cell_type": "markdown",
   "id": "b1fbaf71",
   "metadata": {
    "slideshow": {
     "slide_type": "slide"
    }
   },
   "source": [
    "## Les structures logiques `if / elif / else`"
   ]
  },
  {
   "cell_type": "code",
   "execution_count": 6,
   "id": "82207b9d",
   "metadata": {
    "cell_style": "center",
    "slideshow": {
     "slide_type": "-"
    }
   },
   "outputs": [
    {
     "name": "stdout",
     "output_type": "stream",
     "text": [
      "C'est un oiseau !\n"
     ]
    }
   ],
   "source": [
    "animal = \"chouette\"\n",
    "\n",
    "if animal == \"chouette\" : \n",
    "    print(\"C'est un oiseau !\")\n",
    "elif animal == \"requin\" : \n",
    "    print(\"C'est un poisson\")\n",
    "else :\n",
    "    print(\"C'est autre chose\")"
   ]
  },
  {
   "cell_type": "markdown",
   "id": "141365bc",
   "metadata": {
    "cell_style": "split",
    "slideshow": {
     "slide_type": "slide"
    }
   },
   "source": [
    "On peut effectuer d'autres opérations dans les conditions : \n",
    "- `!=`  N'est pas égal à \n",
    "- `>, >=` Strictement plus grand que, plus grand ou égal à\n",
    "- `<, <=` Strictement plus petit que, plus petit ou égal à\n",
    "- `or` OU\n",
    "- `and` ET\n",
    "- `is` vérifie si deux objets sont les même (plus rares)\n",
    "- `not` : negation\n"
   ]
  },
  {
   "cell_type": "code",
   "execution_count": 8,
   "id": "70135f3f",
   "metadata": {
    "cell_style": "split",
    "slideshow": {
     "slide_type": "-"
    }
   },
   "outputs": [
    {
     "name": "stdout",
     "output_type": "stream",
     "text": [
      "C'est un animal ! \n"
     ]
    }
   ],
   "source": [
    "animal = \"chouette\"\n",
    "if (animal == \"chouette\") or (animal == \"requin\") : \n",
    "    print(\"C'est un animal ! \")\n",
    "else : \n",
    "    print(\"On sait pas\")"
   ]
  },
  {
   "cell_type": "markdown",
   "id": "38c34da9",
   "metadata": {
    "slideshow": {
     "slide_type": "notes"
    }
   },
   "source": [
    "FIXME: à partir de 3.10 -> swtich comme dans C++, sinon y'a pas -> à regarder plus en détail. "
   ]
  },
  {
   "cell_type": "markdown",
   "id": "70a512bb",
   "metadata": {
    "slideshow": {
     "slide_type": "slide"
    }
   },
   "source": [
    "## Le mot clé `in`\n",
    "\n",
    "Le mot-clé `in` a deux utilités :\n",
    "1. Vérifier si un élément est présent dans une séquence (liste, range, string).\n",
    "2. Itérer dans le contexte d'une boucle `for`."
   ]
  },
  {
   "cell_type": "code",
   "execution_count": 14,
   "id": "52fabb1b",
   "metadata": {
    "slideshow": {
     "slide_type": "fragment"
    }
   },
   "outputs": [
    {
     "name": "stdout",
     "output_type": "stream",
     "text": [
      "C'est un jour de travail\n",
      "Test contient la lettre 'e'\n"
     ]
    }
   ],
   "source": [
    "# Cas 1 : Est-ce qu'un élément est dans une séquence ?\n",
    "jour = \"lundi\"\n",
    "if jour in [\"lundi\", \"mardi\", \"mercredi\", \"jeudi\", \"vendredi\"] :\n",
    "    print(\"C'est un jour de travail\")\n",
    "elif jour in [\"samedi\", \"dimanche\"]:\n",
    "    print(\"C'est le weekend !\")\n",
    "\n",
    "\n",
    "# exemple avec un string\n",
    "if \"e\" in \"test\":\n",
    "    print(\"Test contient la lettre 'e'\")"
   ]
  },
  {
   "cell_type": "markdown",
   "id": "5bc5b10e",
   "metadata": {
    "slideshow": {
     "slide_type": "fragment"
    }
   },
   "source": [
    "   Très utile pour tester plusieurs égalités d'un coup \n",
    "    "
   ]
  },
  {
   "cell_type": "markdown",
   "id": "ed2fe4b5",
   "metadata": {
    "slideshow": {
     "slide_type": "slide"
    }
   },
   "source": [
    "## Les boucles `while` et `for`\n",
    "\n",
    "Syntaxe : \n",
    "```python\n",
    "for <nomVariable> in <sequence>:\n",
    "    ...\n",
    "```\n",
    "\n",
    "```python\n",
    "while <condition> : \n",
    "    ...\n",
    "```\n"
   ]
  },
  {
   "cell_type": "code",
   "execution_count": 17,
   "id": "fc1e4f37",
   "metadata": {
    "slideshow": {
     "slide_type": "subslide"
    }
   },
   "outputs": [
    {
     "name": "stdout",
     "output_type": "stream",
     "text": [
      "1 est impair\n",
      "2 est pair\n",
      "3 est impair\n",
      "4 est pair\n",
      "5 est impair\n",
      "6 est pair\n",
      "7 est impair\n",
      "8 est pair\n",
      "9 est impair\n"
     ]
    }
   ],
   "source": [
    "# boucle for \n",
    "for index in range(1,10) : \n",
    "    if index % 2 == 0 : \n",
    "        print(index, \"est pair\")\n",
    "    else :\n",
    "        print(index, \"est impair\")"
   ]
  },
  {
   "cell_type": "code",
   "execution_count": 18,
   "id": "16c5850f",
   "metadata": {
    "slideshow": {
     "slide_type": "fragment"
    }
   },
   "outputs": [
    {
     "name": "stdout",
     "output_type": "stream",
     "text": [
      "1 est impair\n",
      "2 est pair\n",
      "3 est impair\n",
      "4 est pair\n",
      "5 est impair\n",
      "6 est pair\n",
      "7 est impair\n",
      "8 est pair\n",
      "9 est impair\n"
     ]
    }
   ],
   "source": [
    "# boucle while\n",
    "index = 1\n",
    "while index < 10 : \n",
    "    if index % 2 == 0:\n",
    "        print(index, \"est pair\")\n",
    "    else :\n",
    "        print(index, \"est impair\")\n",
    "    index += 1 # equivalent à : index = index + 1"
   ]
  },
  {
   "cell_type": "markdown",
   "id": "10c9b3ed",
   "metadata": {
    "slideshow": {
     "slide_type": "subslide"
    }
   },
   "source": [
    "### `break` et `continue`\n",
    "\n",
    "- `break` permet de sortir d'une boucle\n",
    "- `continue` permet de sauter directement à la prochaine itération"
   ]
  },
  {
   "cell_type": "code",
   "execution_count": 24,
   "id": "3cbd1ba6",
   "metadata": {
    "slideshow": {
     "slide_type": "-"
    }
   },
   "outputs": [
    {
     "name": "stdout",
     "output_type": "stream",
     "text": [
      "1\n",
      "2\n",
      "5\n",
      "6\n",
      "Bye\n"
     ]
    }
   ],
   "source": [
    "# Affiche:  1 2 5 6 Bye\n",
    "for i in range(1,10):\n",
    "    if (i > 2) and (i < 5) :\n",
    "        continue\n",
    "    elif i == 7 :\n",
    "        print(\"Bye\")\n",
    "        break\n",
    "    print(i)"
   ]
  },
  {
   "cell_type": "markdown",
   "id": "035b27ef",
   "metadata": {
    "slideshow": {
     "slide_type": "fragment"
    }
   },
   "source": [
    "Dans certains cas, `break` et `continue` rend le code plus difficile à comprendre, donc à utiliser avec parcimonie ..."
   ]
  },
  {
   "cell_type": "markdown",
   "id": "1b9262d8",
   "metadata": {
    "slideshow": {
     "slide_type": "subslide"
    }
   },
   "source": [
    "### Quitter une boucle infinie\n",
    "Dans un script \"normal :\n",
    "- `Ctrl`+ `c` devrait suffir dans 90% des cas ...\n",
    "\n",
    "Dans Jupyter :\n",
    "1. Stopper la cellule (fonctionne dans 90% des cas ...)\n",
    "2. Stopper/Redémmarer le \"kernel\""
   ]
  },
  {
   "cell_type": "markdown",
   "id": "bf614922",
   "metadata": {
    "slideshow": {
     "slide_type": "slide"
    }
   },
   "source": [
    "### Les fonctions\n",
    "\n",
    "Les fonctions sont définies avec le mot-clé `def` et `return` :\n",
    "```python\n",
    "def nomFonction(param1,param2,param3, ...):\n",
    "    ...\n",
    "    return ... # pas obligatoire \n",
    "```\n",
    "\n",
    "Pas besoin de préciser le type de retour de la fonction. \n",
    "\n",
    "Une fonction peut retourner **0**, **1** ou **plusieures** valeurs de type différents : `return 12,\"bonjour\", 12.4`\n",
    "\n",
    "Si la fonction ne retourne rien, elle retourne `None` (une valeur spéciale mais très utile en python)\n"
   ]
  },
  {
   "cell_type": "code",
   "execution_count": 34,
   "id": "dd48aee4",
   "metadata": {
    "slideshow": {
     "slide_type": "-"
    }
   },
   "outputs": [
    {
     "name": "stdout",
     "output_type": "stream",
     "text": [
      "None\n"
     ]
    }
   ],
   "source": [
    "def test():\n",
    "    a = 1\n",
    "b = test() \n",
    "print(b) # affiche None"
   ]
  },
  {
   "cell_type": "markdown",
   "id": "2e621872",
   "metadata": {
    "slideshow": {
     "slide_type": "subslide"
    }
   },
   "source": [
    " Plusieurs moyen de récupérer les valeurs retournées d'une fonction : "
   ]
  },
  {
   "cell_type": "code",
   "execution_count": 36,
   "id": "d5c2180e",
   "metadata": {},
   "outputs": [
    {
     "name": "stdout",
     "output_type": "stream",
     "text": [
      "Samedi Dimanche\n",
      "('Samedi', 'Dimanche')\n"
     ]
    }
   ],
   "source": [
    "def get_weekend():\n",
    "    return \"Samedi\", \"Dimanche\"\n",
    "\n",
    "s, d = get_weekend()\n",
    "print(s,d) # \"Samedi\", \"Dimanche\"\n",
    "\n",
    "we = get_weekend()\n",
    "print(we) # (\"Samedi\", \"Dimanche\")"
   ]
  },
  {
   "cell_type": "markdown",
   "id": "8a52d3d8",
   "metadata": {
    "slideshow": {
     "slide_type": "notes"
    }
   },
   "source": [
    "Dans le premier cas, on associe chaque valeurs retournée de la fonction à des variables.\n",
    "Dans le deuxième cas, les valeurs retournées sont stockées dans un **tuple**. On peut ensuite accéder aux valeurs retournées."
   ]
  },
  {
   "cell_type": "markdown",
   "id": "58ce5b12",
   "metadata": {
    "slideshow": {
     "slide_type": "subslide"
    }
   },
   "source": [
    "### Paramètres par défaut\n",
    "```python\n",
    "def test(param, param2): \n",
    "    ...\n",
    "def test2(param, param2=5):\n",
    "    ...\n",
    "def test3(param2 = 1, param): # erreur !\n",
    "    ...\n",
    "```\n",
    "Les paramètres qui possèdent une valeur par défaut sont optionnels.\n",
    "\n",
    "Attention à l'ordre dans lequel les paramètres sont écrits. Ce n'est pas possible d'avoir des paramètres par défaut **avant** des paramètres sans valeurs par défaut. \n",
    "\n",
    "Exemple concret :\n"
   ]
  },
  {
   "cell_type": "code",
   "execution_count": 41,
   "id": "f6f0d297",
   "metadata": {
    "cell_style": "split",
    "slideshow": {
     "slide_type": "-"
    }
   },
   "outputs": [
    {
     "name": "stdout",
     "output_type": "stream",
     "text": [
      "Bonjour Sara\n",
      "Bonjour Emma\n"
     ]
    }
   ],
   "source": [
    "def hello(nom=\"Sara\"):\n",
    "    print(\"Bonjour\", nom)\n",
    "    \n",
    "hello() # Bonjour Sara\n",
    "hello(\"Emma\") # Bonjour Emma"
   ]
  },
  {
   "cell_type": "code",
   "execution_count": 44,
   "id": "be84f308",
   "metadata": {
    "cell_style": "split",
    "slideshow": {
     "slide_type": "-"
    }
   },
   "outputs": [
    {
     "name": "stdout",
     "output_type": "stream",
     "text": [
      "1 4\n",
      "1 2\n"
     ]
    }
   ],
   "source": [
    "def test(param,param2=4):\n",
    "    print(param, param2)\n",
    "    \n",
    "test(1) # 1 4\n",
    "test(1,2) # 1 2"
   ]
  },
  {
   "cell_type": "markdown",
   "id": "74425f04",
   "metadata": {
    "slideshow": {
     "slide_type": "skip"
    }
   },
   "source": [
    "Mais si par exemple on essaye la version suivante, on obtient une erreur, car on spécifie d'abord un paramètre avec étiquette et ensuite une valeur sans étiquette :"
   ]
  },
  {
   "cell_type": "code",
   "execution_count": 49,
   "id": "38f168c3",
   "metadata": {
    "slideshow": {
     "slide_type": "-"
    }
   },
   "outputs": [
    {
     "ename": "SyntaxError",
     "evalue": "positional argument follows keyword argument (3542747598.py, line 2)",
     "output_type": "error",
     "traceback": [
      "\u001b[0;36m  Cell \u001b[0;32mIn[49], line 2\u001b[0;36m\u001b[0m\n\u001b[0;31m    test(param2 = 1, 3) # fonctionne pas\u001b[0m\n\u001b[0m                      ^\u001b[0m\n\u001b[0;31mSyntaxError\u001b[0m\u001b[0;31m:\u001b[0m positional argument follows keyword argument\n"
     ]
    }
   ],
   "source": [
    "test(3, param2 = 1) # fonctionne\n",
    "test(param2 = 1, 3) # fonctionne pas"
   ]
  },
  {
   "cell_type": "markdown",
   "id": "12370e36",
   "metadata": {},
   "source": [
    "## Les structures de données\n",
    "\n",
    "Les principales :\n",
    "- Listes\n",
    "- Tuples\n",
    "- Sets\n",
    "- Dictionnaires : `a = {...}` ou `a = dict()`\n"
   ]
  },
  {
   "cell_type": "markdown",
   "id": "31cc7b0d",
   "metadata": {
    "slideshow": {
     "slide_type": "subslide"
    }
   },
   "source": [
    "### Les listes\n",
    "\n",
    "- `a = [...]` ou `a = list()`\n",
    "- \"Equivalent\" au std::vector en C++.\n",
    "- On peut changer sa taille (ajouter / enlever des éléments).\n",
    "- Peut contenir des éléments de types différents."
   ]
  },
  {
   "cell_type": "code",
   "execution_count": 2,
   "id": "b39ab196",
   "metadata": {
    "slideshow": {
     "slide_type": "subslide"
    }
   },
   "outputs": [
    {
     "name": "stdout",
     "output_type": "stream",
     "text": [
      "1\n",
      "3\n",
      "5\n",
      "3\n",
      "[2, 3]\n",
      "[2, 3, 5]\n",
      "[1, 2, 3, 4, 5, 6]\n"
     ]
    }
   ],
   "source": [
    "maListe = [1,2,3] # je crée une liste avec 3 éléments\n",
    "print(maListe[0]) # affiche le premier élément -> 1 \n",
    "\n",
    "# ajouter 5 à la fin de la liste :\n",
    "maListe.append(5)\n",
    "\n",
    "# enlever le premier élément (indice 0)\n",
    "maListe.pop(0)\n",
    "\n",
    "# afficher la longueur de la liste avec len()\n",
    "print(len(maListe))\n",
    "\n",
    "# on peut aussi accéder aux éléments de la liste avec des indices négatifs\n",
    "print(maListe[-1]) # affiche le dernier élément de la liste \n",
    "print(maListe[-2]) # avant dernier élément\n",
    "\n",
    "# on peut aussi afficher un \"range\" d'éléments avec le symbole ':' [a:b[ \n",
    "print(maListe[0:2]) # retourne une liste avec les deux premiers éléments \n",
    "print(maListe[:]) # affiche toute la liste (un peu inutile)\n",
    "\n",
    "# on peut additionner deux listes : \n",
    "print([1,2,3] + [4,5,6]) # retourne [1,2,3,4,5,6]"
   ]
  },
  {
   "cell_type": "markdown",
   "id": "81eab9c2",
   "metadata": {
    "slideshow": {
     "slide_type": "subslide"
    }
   },
   "source": [
    "### Les tuples\n",
    "\n",
    "- `a = (...)` ou `a = tuple()`\n",
    "- On ne peut pas changer la taille (ajouter/enlever des éléments)\n",
    "- Plus rapides que les listes\n",
    "- Les opérations de lectures sont les mêmes que pour les listes"
   ]
  },
  {
   "cell_type": "code",
   "execution_count": 9,
   "id": "b6fb58ce",
   "metadata": {
    "slideshow": {
     "slide_type": "subslide"
    }
   },
   "outputs": [
    {
     "name": "stdout",
     "output_type": "stream",
     "text": [
      "2\n",
      "3\n",
      "3\n",
      "2\n",
      "(1, 2)\n",
      "(1, 2, 3)\n",
      "(1, 2, 3, 4, 5, 6)\n"
     ]
    }
   ],
   "source": [
    "monTuple = (1,2,3)\n",
    "print(monTuple[1]) # affiche 2\n",
    "\n",
    "# à part ajouter des éléments, les tuples se comportent comme des listes\n",
    "print(len(monTuple))\n",
    "\n",
    "# on peut aussi accéder aux éléments du tuple avec des indices négatifs\n",
    "print(monTuple[-1]) # affiche le dernier élément du tuple \n",
    "print(monTuple[-2]) # avant dernier élément\n",
    "\n",
    "# on peut aussi afficher un \"range\" d'éléments avec le symbole ':'\n",
    "print(monTuple[0:2]) # retourne un tuple avec les deux premiers éléments \n",
    "print(monTuple[:]) # affiche toute le tuple (un peu inutile)\n",
    "\n",
    "# on peut additionner deux tuples : \n",
    "print((1,2,3) + (4,5,6)) # retourne (1,2,3,4,5,6)"
   ]
  },
  {
   "cell_type": "markdown",
   "id": "51ace260",
   "metadata": {
    "slideshow": {
     "slide_type": "subslide"
    }
   },
   "source": [
    "### Les sets\n",
    "- `a = {...}` ou `a = set()`\n",
    "- Chaque élément d'un set est unique.\n",
    "- Sont très utiles pour enlever des duplicats et effectuer des opérations d'ensemble\n"
   ]
  },
  {
   "cell_type": "code",
   "execution_count": 16,
   "id": "c726aed7",
   "metadata": {
    "slideshow": {
     "slide_type": "subslide"
    }
   },
   "outputs": [
    {
     "name": "stdout",
     "output_type": "stream",
     "text": [
      "{1, 2}\n",
      "{1, 2, 4, 5, 6, 10}\n",
      "{4, 5, 6}\n",
      "{4, 5, 6}\n"
     ]
    }
   ],
   "source": [
    "a = [1,2,3,4,5,5,5] # liste avec 3 élements \"5\"\n",
    "a = set(a) # on enlève les duplicats \"5\" en convertissant\n",
    "\n",
    "a.add(6) # on ajoute l'élement 6\n",
    "a.remove(3) # on enlève l'élément 3\n",
    "\n",
    "b = {1,2,10}\n",
    "print(a.intersection(b))\n",
    "print(a.union(b))\n",
    "print(a.difference(b))\n",
    "print(a.difference(b))"
   ]
  },
  {
   "cell_type": "markdown",
   "id": "71377b3d",
   "metadata": {
    "slideshow": {
     "slide_type": "subslide"
    }
   },
   "source": [
    "### Les dictionnaires\n",
    "\n",
    "- `a = {...}` ou `a = dict()`\n",
    "- Chaque valeur correspond à une clé (unique), généralement un string.\n",
    "- TRES puissants en python"
   ]
  },
  {
   "cell_type": "code",
   "execution_count": 39,
   "id": "97c7a624",
   "metadata": {
    "slideshow": {
     "slide_type": "subslide"
    }
   },
   "outputs": [
    {
     "name": "stdout",
     "output_type": "stream",
     "text": [
      "Nom donné au symbole: '&'.\n",
      "{'esperluette': \"Nom donné au symbole: '&'.\", 'nonupler': 'Multiplier par neuf.'}\n",
      "-> Avec .keys()\n",
      "Clé : esperluette\n",
      "Valeur : Nom donné au symbole: '&'.\n",
      "---\n",
      "Clé : nonupler\n",
      "Valeur : Multiplier par neuf.\n",
      "---\n",
      "-> Avec .items()\n",
      "Clé : esperluette\n",
      "Valeur : Nom donné au symbole: '&'.\n",
      "---\n",
      "Clé : nonupler\n",
      "Valeur : Multiplier par neuf.\n",
      "---\n",
      "2\n",
      "{'esperluette': \"Nom donné au symbole: '&'.\"}\n"
     ]
    }
   ],
   "source": [
    "myDict = {\"esperluette\" : \"Nom donné au symbole: '&'.\"}\n",
    "\n",
    "print(myDict[\"esperluette\"])\n",
    "myDict[\"nonupler\"] = \"Multiplier par neuf.\"\n",
    "\n",
    "print(myDict)\n",
    "print(\"-> Avec .keys()\")\n",
    "for key in myDict.keys(): # Pareil : for key in myDict : \n",
    "    print(\"Clé :\", key)\n",
    "    print(\"Valeur :\", myDict[key])\n",
    "    print(\"---\")\n",
    "# ou \n",
    "print(\"-> Avec .items()\")\n",
    "for key, value in myDict.items() : \n",
    "    print(\"Clé :\", key)\n",
    "    print(\"Valeur :\", value)\n",
    "    print(\"---\")\n",
    "\n",
    "print(len(myDict)) # taille du dictionnaire \n",
    "myDict.pop(\"nonupler\") # enlève la clé voulue et la valeur associée. \n",
    "print(myDict)"
   ]
  },
  {
   "cell_type": "markdown",
   "id": "aa74dfc5",
   "metadata": {},
   "source": [
    "### Strings"
   ]
  },
  {
   "cell_type": "code",
   "execution_count": null,
   "id": "6e7035fb",
   "metadata": {},
   "outputs": [],
   "source": []
  }
 ],
 "metadata": {
  "celltoolbar": "Slideshow",
  "kernelspec": {
   "display_name": "Python 3 (ipykernel)",
   "language": "python",
   "name": "python3"
  },
  "language_info": {
   "codemirror_mode": {
    "name": "ipython",
    "version": 3
   },
   "file_extension": ".py",
   "mimetype": "text/x-python",
   "name": "python",
   "nbconvert_exporter": "python",
   "pygments_lexer": "ipython3",
   "version": "3.11.2"
  },
  "rise": {
   "margin": 0.02,
   "scroll": true,
   "transition": "fade"
  }
 },
 "nbformat": 4,
 "nbformat_minor": 5
}
